{
 "cells": [
  {
   "cell_type": "markdown",
   "id": "ded661bc-0319-45c7-93c6-c2b091f9af63",
   "metadata": {},
   "source": [
    "# Lab Assignment 2 - Sophie Michi\n",
    "### 200021747\n",
    "### git@github.com:sophiemichi/PY4SA23_Assignment.git"
   ]
  },
  {
   "cell_type": "markdown",
   "id": "3d2afd59-9968-4e33-8092-368bc6b781a9",
   "metadata": {},
   "source": [
    "## Python Basics"
   ]
  },
  {
   "cell_type": "markdown",
   "id": "d48b7bfd-ff73-4768-aeb9-d14e9f7e3ff9",
   "metadata": {},
   "source": [
    "### **Task 1** - Create an if..else statement that will test whether a number is divisible by three."
   ]
  },
  {
   "cell_type": "code",
   "execution_count": 32,
   "id": "40d3d810-0d81-48e6-aec1-38e874bb4d06",
   "metadata": {},
   "outputs": [
    {
     "name": "stdin",
     "output_type": "stream",
     "text": [
      "Test whether your number is divisible by three. What is your number? 3\n"
     ]
    },
    {
     "name": "stdout",
     "output_type": "stream",
     "text": [
      "3 is divisible by 3\n"
     ]
    }
   ],
   "source": [
    "num1=int(input(\"Test whether your number is divisible by three. What is your number?\"))\n",
    "if(num1%3==0):\n",
    "    print(\"{} is divisible by 3\".format(num1))\n",
    "else:\n",
    "    print(\"{} is not divisible by 3\".format(num1))"
   ]
  },
  {
   "cell_type": "markdown",
   "id": "8bd724c4-e6ab-4db9-ba71-dfbeb197e4b0",
   "metadata": {},
   "source": [
    "### **Task 2** - Create an if...else statement that will test whether a type of fruit, represented as a text string, is in a list of acceptable fruits (apple, orange, pear, kiwi, or strawberry)."
   ]
  },
  {
   "cell_type": "code",
   "execution_count": 79,
   "id": "6541216b-c48c-4808-af9f-d54f77c56f7e",
   "metadata": {},
   "outputs": [
    {
     "name": "stdin",
     "output_type": "stream",
     "text": [
      "What is your fruit? APPLE\n"
     ]
    },
    {
     "name": "stdout",
     "output_type": "stream",
     "text": [
      "APPLE is accetable.\n"
     ]
    }
   ],
   "source": [
    "fruit = input(\"What is your fruit?\")\n",
    "\n",
    "acceptablefruits = [\"apple\", \"orange\", \"pear\", \"kiwi\", \"strawberry\",\n",
    "                    \"Apple\", \"Orange\", \"Pear\", \"Kiwi\", \"Strawberry\",\n",
    "                    \"APPLE\", \"ORANGE\", \"PEAR\", \"KIWI\", \"STRAWBERRY\"] #added in various capitilizations to avoid discrepencies \n",
    "\n",
    "if fruit in acceptablefruits:\n",
    "    print(str(fruit) + \" is accetable.\")\n",
    "else: \n",
    "    print(str(fruit) + \" is not acceptable.\")"
   ]
  },
  {
   "cell_type": "markdown",
   "id": "381069a5-59a1-43ca-b3e9-1416e64f78c5",
   "metadata": {},
   "source": [
    "### **Task 3** - Create a function to calculate the distance between two coordinates using the haversine formula."
   ]
  },
  {
   "cell_type": "code",
   "execution_count": 64,
   "id": "ef3e8dab-c68e-4e0b-a497-8e29f140d5f6",
   "metadata": {},
   "outputs": [
    {
     "data": {
      "text/plain": [
       "5.229712941541709"
      ]
     },
     "execution_count": 64,
     "metadata": {},
     "output_type": "execute_result"
    }
   ],
   "source": [
    "from math import radians, sin, cost, sqrt, atan2\n",
    "def haversine(coord1, coord2):\n",
    "    "
   ]
  },
  {
   "cell_type": "markdown",
   "id": "3ac8d601-ae53-45da-aeec-e11255ee9bd0",
   "metadata": {},
   "source": [
    "## Pandas and NumPy"
   ]
  },
  {
   "cell_type": "code",
   "execution_count": null,
   "id": "c11eecb5-7df7-4ad4-b4f1-65cfb8aebf53",
   "metadata": {},
   "outputs": [],
   "source": [
    "import numpy as np #simplifying code \n",
    "import pandas as np #simplifying code"
   ]
  },
  {
   "cell_type": "code",
   "execution_count": 107,
   "id": "ce564cb4-d8a6-4d47-9e12-5c1d8748ec10",
   "metadata": {},
   "outputs": [
    {
     "data": {
      "text/plain": [
       "(25534, 39)"
      ]
     },
     "execution_count": 107,
     "metadata": {},
     "output_type": "execute_result"
    }
   ],
   "source": [
    "trees = pd.read_csv('portland_park_trees.csv', index_col=0, sep=\",\", header=0) #reading in csv file\n",
    "trees.head(5) #checking it is imported correctly, getting head\n",
    "trees.shape"
   ]
  },
  {
   "cell_type": "markdown",
   "id": "c939b615-a47c-4790-9d91-29a69bbf7e00",
   "metadata": {},
   "source": [
    "### **Question 1** - How many trees are of the Quercus or Acer genus?"
   ]
  },
  {
   "cell_type": "code",
   "execution_count": 212,
   "id": "986d64e4-4b84-4c8d-ae81-db27b8660a89",
   "metadata": {},
   "outputs": [
    {
     "data": {
      "text/html": [
       "<div>\n",
       "<style scoped>\n",
       "    .dataframe tbody tr th:only-of-type {\n",
       "        vertical-align: middle;\n",
       "    }\n",
       "\n",
       "    .dataframe tbody tr th {\n",
       "        vertical-align: top;\n",
       "    }\n",
       "\n",
       "    .dataframe thead th {\n",
       "        text-align: right;\n",
       "    }\n",
       "</style>\n",
       "<table border=\"1\" class=\"dataframe\">\n",
       "  <thead>\n",
       "    <tr style=\"text-align: right;\">\n",
       "      <th></th>\n",
       "      <th>OBJECTID</th>\n",
       "      <th>Inventory_</th>\n",
       "      <th>Species</th>\n",
       "      <th>DBH</th>\n",
       "      <th>Condition</th>\n",
       "      <th>TreeHeight</th>\n",
       "      <th>CrownWidth</th>\n",
       "      <th>CrownWid_1</th>\n",
       "      <th>CollectedB</th>\n",
       "      <th>Notes</th>\n",
       "      <th>...</th>\n",
       "      <th>Genus</th>\n",
       "      <th>Common_nam</th>\n",
       "      <th>Genus_spec</th>\n",
       "      <th>Functional</th>\n",
       "      <th>Size</th>\n",
       "      <th>Native</th>\n",
       "      <th>Edible</th>\n",
       "      <th>Nuisance</th>\n",
       "      <th>Origin</th>\n",
       "      <th>Species_fa</th>\n",
       "    </tr>\n",
       "    <tr>\n",
       "      <th>fid</th>\n",
       "      <th></th>\n",
       "      <th></th>\n",
       "      <th></th>\n",
       "      <th></th>\n",
       "      <th></th>\n",
       "      <th></th>\n",
       "      <th></th>\n",
       "      <th></th>\n",
       "      <th></th>\n",
       "      <th></th>\n",
       "      <th></th>\n",
       "      <th></th>\n",
       "      <th></th>\n",
       "      <th></th>\n",
       "      <th></th>\n",
       "      <th></th>\n",
       "      <th></th>\n",
       "      <th></th>\n",
       "      <th></th>\n",
       "      <th></th>\n",
       "      <th></th>\n",
       "    </tr>\n",
       "  </thead>\n",
       "  <tbody>\n",
       "    <tr>\n",
       "      <th>4</th>\n",
       "      <td>429</td>\n",
       "      <td>2017/05/09</td>\n",
       "      <td>QURU</td>\n",
       "      <td>10.3</td>\n",
       "      <td>Poor</td>\n",
       "      <td>28.0</td>\n",
       "      <td>38.0</td>\n",
       "      <td>31.0</td>\n",
       "      <td>staff</td>\n",
       "      <td>NaN</td>\n",
       "      <td>...</td>\n",
       "      <td>Quercus</td>\n",
       "      <td>northern red oak</td>\n",
       "      <td>Quercus rubra</td>\n",
       "      <td>BD</td>\n",
       "      <td>L</td>\n",
       "      <td>No</td>\n",
       "      <td>NaN</td>\n",
       "      <td>NaN</td>\n",
       "      <td>North America - eastern Canada and eastern USA...</td>\n",
       "      <td>Acorns take two years to mature and are an imp...</td>\n",
       "    </tr>\n",
       "    <tr>\n",
       "      <th>12</th>\n",
       "      <td>437</td>\n",
       "      <td>2017/05/09</td>\n",
       "      <td>QURU</td>\n",
       "      <td>14.9</td>\n",
       "      <td>Fair</td>\n",
       "      <td>48.0</td>\n",
       "      <td>33.0</td>\n",
       "      <td>27.0</td>\n",
       "      <td>staff</td>\n",
       "      <td>NaN</td>\n",
       "      <td>...</td>\n",
       "      <td>Quercus</td>\n",
       "      <td>northern red oak</td>\n",
       "      <td>Quercus rubra</td>\n",
       "      <td>BD</td>\n",
       "      <td>L</td>\n",
       "      <td>No</td>\n",
       "      <td>NaN</td>\n",
       "      <td>NaN</td>\n",
       "      <td>North America - eastern Canada and eastern USA...</td>\n",
       "      <td>Acorns take two years to mature and are an imp...</td>\n",
       "    </tr>\n",
       "    <tr>\n",
       "      <th>55</th>\n",
       "      <td>480</td>\n",
       "      <td>2017/05/19</td>\n",
       "      <td>QUPA</td>\n",
       "      <td>37.1</td>\n",
       "      <td>Fair</td>\n",
       "      <td>85.0</td>\n",
       "      <td>70.0</td>\n",
       "      <td>60.0</td>\n",
       "      <td>staff</td>\n",
       "      <td>NaN</td>\n",
       "      <td>...</td>\n",
       "      <td>Quercus</td>\n",
       "      <td>pin oak</td>\n",
       "      <td>Quercus palustris</td>\n",
       "      <td>BD</td>\n",
       "      <td>L</td>\n",
       "      <td>No</td>\n",
       "      <td>NaN</td>\n",
       "      <td>NaN</td>\n",
       "      <td>North America - central USA from eastern Kansa...</td>\n",
       "      <td>Pin oak gets its name from the sharp pointy sh...</td>\n",
       "    </tr>\n",
       "    <tr>\n",
       "      <th>87</th>\n",
       "      <td>512</td>\n",
       "      <td>2017/05/22</td>\n",
       "      <td>QUFR</td>\n",
       "      <td>22.6</td>\n",
       "      <td>Good</td>\n",
       "      <td>65.0</td>\n",
       "      <td>48.0</td>\n",
       "      <td>53.0</td>\n",
       "      <td>staff</td>\n",
       "      <td>NaN</td>\n",
       "      <td>...</td>\n",
       "      <td>Quercus</td>\n",
       "      <td>Hungarian oak, Italian oak</td>\n",
       "      <td>Quercus frainetto</td>\n",
       "      <td>BD</td>\n",
       "      <td>L</td>\n",
       "      <td>No</td>\n",
       "      <td>NaN</td>\n",
       "      <td>NaN</td>\n",
       "      <td>Europe - the Balkans, including Serbia, Romani...</td>\n",
       "      <td>Glossy, dark green, lobed leaves. Golden yello...</td>\n",
       "    </tr>\n",
       "    <tr>\n",
       "      <th>97</th>\n",
       "      <td>522</td>\n",
       "      <td>2017/05/23</td>\n",
       "      <td>QUPA</td>\n",
       "      <td>29.8</td>\n",
       "      <td>Fair</td>\n",
       "      <td>65.0</td>\n",
       "      <td>77.0</td>\n",
       "      <td>66.0</td>\n",
       "      <td>staff</td>\n",
       "      <td>NaN</td>\n",
       "      <td>...</td>\n",
       "      <td>Quercus</td>\n",
       "      <td>pin oak</td>\n",
       "      <td>Quercus palustris</td>\n",
       "      <td>BD</td>\n",
       "      <td>L</td>\n",
       "      <td>No</td>\n",
       "      <td>NaN</td>\n",
       "      <td>NaN</td>\n",
       "      <td>North America - central USA from eastern Kansa...</td>\n",
       "      <td>Pin oak gets its name from the sharp pointy sh...</td>\n",
       "    </tr>\n",
       "    <tr>\n",
       "      <th>...</th>\n",
       "      <td>...</td>\n",
       "      <td>...</td>\n",
       "      <td>...</td>\n",
       "      <td>...</td>\n",
       "      <td>...</td>\n",
       "      <td>...</td>\n",
       "      <td>...</td>\n",
       "      <td>...</td>\n",
       "      <td>...</td>\n",
       "      <td>...</td>\n",
       "      <td>...</td>\n",
       "      <td>...</td>\n",
       "      <td>...</td>\n",
       "      <td>...</td>\n",
       "      <td>...</td>\n",
       "      <td>...</td>\n",
       "      <td>...</td>\n",
       "      <td>...</td>\n",
       "      <td>...</td>\n",
       "      <td>...</td>\n",
       "      <td>...</td>\n",
       "    </tr>\n",
       "    <tr>\n",
       "      <th>25461</th>\n",
       "      <td>719644</td>\n",
       "      <td>2019/10/09</td>\n",
       "      <td>QUPA</td>\n",
       "      <td>27.0</td>\n",
       "      <td>Fair</td>\n",
       "      <td>92.0</td>\n",
       "      <td>49.0</td>\n",
       "      <td>48.0</td>\n",
       "      <td>staff</td>\n",
       "      <td>NaN</td>\n",
       "      <td>...</td>\n",
       "      <td>Quercus</td>\n",
       "      <td>pin oak</td>\n",
       "      <td>Quercus palustris</td>\n",
       "      <td>BD</td>\n",
       "      <td>L</td>\n",
       "      <td>No</td>\n",
       "      <td>NaN</td>\n",
       "      <td>NaN</td>\n",
       "      <td>North America - central USA from eastern Kansa...</td>\n",
       "      <td>Pin oak gets its name from the sharp pointy sh...</td>\n",
       "    </tr>\n",
       "    <tr>\n",
       "      <th>25462</th>\n",
       "      <td>719645</td>\n",
       "      <td>2019/10/09</td>\n",
       "      <td>QURU</td>\n",
       "      <td>34.4</td>\n",
       "      <td>Fair</td>\n",
       "      <td>66.0</td>\n",
       "      <td>68.0</td>\n",
       "      <td>87.0</td>\n",
       "      <td>staff</td>\n",
       "      <td>NaN</td>\n",
       "      <td>...</td>\n",
       "      <td>Quercus</td>\n",
       "      <td>northern red oak</td>\n",
       "      <td>Quercus rubra</td>\n",
       "      <td>BD</td>\n",
       "      <td>L</td>\n",
       "      <td>No</td>\n",
       "      <td>NaN</td>\n",
       "      <td>NaN</td>\n",
       "      <td>North America - eastern Canada and eastern USA...</td>\n",
       "      <td>Acorns take two years to mature and are an imp...</td>\n",
       "    </tr>\n",
       "    <tr>\n",
       "      <th>25463</th>\n",
       "      <td>719646</td>\n",
       "      <td>2019/10/09</td>\n",
       "      <td>QURU</td>\n",
       "      <td>27.5</td>\n",
       "      <td>Fair</td>\n",
       "      <td>61.0</td>\n",
       "      <td>54.0</td>\n",
       "      <td>53.0</td>\n",
       "      <td>staff</td>\n",
       "      <td>NaN</td>\n",
       "      <td>...</td>\n",
       "      <td>Quercus</td>\n",
       "      <td>northern red oak</td>\n",
       "      <td>Quercus rubra</td>\n",
       "      <td>BD</td>\n",
       "      <td>L</td>\n",
       "      <td>No</td>\n",
       "      <td>NaN</td>\n",
       "      <td>NaN</td>\n",
       "      <td>North America - eastern Canada and eastern USA...</td>\n",
       "      <td>Acorns take two years to mature and are an imp...</td>\n",
       "    </tr>\n",
       "    <tr>\n",
       "      <th>25488</th>\n",
       "      <td>721243</td>\n",
       "      <td>2019/10/09</td>\n",
       "      <td>QUSU</td>\n",
       "      <td>0.5</td>\n",
       "      <td>Good</td>\n",
       "      <td>9.0</td>\n",
       "      <td>10.0</td>\n",
       "      <td>7.0</td>\n",
       "      <td>staff</td>\n",
       "      <td>NaN</td>\n",
       "      <td>...</td>\n",
       "      <td>Quercus</td>\n",
       "      <td>cork oak</td>\n",
       "      <td>Quercus suber</td>\n",
       "      <td>BE</td>\n",
       "      <td>L</td>\n",
       "      <td>No</td>\n",
       "      <td>NaN</td>\n",
       "      <td>NaN</td>\n",
       "      <td>Europe and North Africa – Spain, Portugal, Mor...</td>\n",
       "      <td>Bark is corky, porous and fissured. Gray-green...</td>\n",
       "    </tr>\n",
       "    <tr>\n",
       "      <th>25530</th>\n",
       "      <td>726046</td>\n",
       "      <td>2018/08/16</td>\n",
       "      <td>QURU</td>\n",
       "      <td>31.6</td>\n",
       "      <td>Fair</td>\n",
       "      <td>74.0</td>\n",
       "      <td>50.0</td>\n",
       "      <td>46.0</td>\n",
       "      <td>volunteer</td>\n",
       "      <td>NaN</td>\n",
       "      <td>...</td>\n",
       "      <td>Quercus</td>\n",
       "      <td>northern red oak</td>\n",
       "      <td>Quercus rubra</td>\n",
       "      <td>BD</td>\n",
       "      <td>L</td>\n",
       "      <td>No</td>\n",
       "      <td>NaN</td>\n",
       "      <td>NaN</td>\n",
       "      <td>North America - eastern Canada and eastern USA...</td>\n",
       "      <td>Acorns take two years to mature and are an imp...</td>\n",
       "    </tr>\n",
       "  </tbody>\n",
       "</table>\n",
       "<p>2089 rows × 39 columns</p>\n",
       "</div>"
      ],
      "text/plain": [
       "       OBJECTID  Inventory_ Species   DBH Condition  TreeHeight  CrownWidth  \\\n",
       "fid                                                                           \n",
       "4           429  2017/05/09    QURU  10.3      Poor        28.0        38.0   \n",
       "12          437  2017/05/09    QURU  14.9      Fair        48.0        33.0   \n",
       "55          480  2017/05/19    QUPA  37.1      Fair        85.0        70.0   \n",
       "87          512  2017/05/22    QUFR  22.6      Good        65.0        48.0   \n",
       "97          522  2017/05/23    QUPA  29.8      Fair        65.0        77.0   \n",
       "...         ...         ...     ...   ...       ...         ...         ...   \n",
       "25461    719644  2019/10/09    QUPA  27.0      Fair        92.0        49.0   \n",
       "25462    719645  2019/10/09    QURU  34.4      Fair        66.0        68.0   \n",
       "25463    719646  2019/10/09    QURU  27.5      Fair        61.0        54.0   \n",
       "25488    721243  2019/10/09    QUSU   0.5      Good         9.0        10.0   \n",
       "25530    726046  2018/08/16    QURU  31.6      Fair        74.0        50.0   \n",
       "\n",
       "       CrownWid_1 CollectedB Notes  ...    Genus                  Common_nam  \\\n",
       "fid                                 ...                                        \n",
       "4            31.0      staff   NaN  ...  Quercus            northern red oak   \n",
       "12           27.0      staff   NaN  ...  Quercus            northern red oak   \n",
       "55           60.0      staff   NaN  ...  Quercus                     pin oak   \n",
       "87           53.0      staff   NaN  ...  Quercus  Hungarian oak, Italian oak   \n",
       "97           66.0      staff   NaN  ...  Quercus                     pin oak   \n",
       "...           ...        ...   ...  ...      ...                         ...   \n",
       "25461        48.0      staff   NaN  ...  Quercus                     pin oak   \n",
       "25462        87.0      staff   NaN  ...  Quercus            northern red oak   \n",
       "25463        53.0      staff   NaN  ...  Quercus            northern red oak   \n",
       "25488         7.0      staff   NaN  ...  Quercus                    cork oak   \n",
       "25530        46.0  volunteer   NaN  ...  Quercus            northern red oak   \n",
       "\n",
       "              Genus_spec Functional Size Native Edible  Nuisance  \\\n",
       "fid                                                                \n",
       "4          Quercus rubra         BD    L     No    NaN       NaN   \n",
       "12         Quercus rubra         BD    L     No    NaN       NaN   \n",
       "55     Quercus palustris         BD    L     No    NaN       NaN   \n",
       "87     Quercus frainetto         BD    L     No    NaN       NaN   \n",
       "97     Quercus palustris         BD    L     No    NaN       NaN   \n",
       "...                  ...        ...  ...    ...    ...       ...   \n",
       "25461  Quercus palustris         BD    L     No    NaN       NaN   \n",
       "25462      Quercus rubra         BD    L     No    NaN       NaN   \n",
       "25463      Quercus rubra         BD    L     No    NaN       NaN   \n",
       "25488      Quercus suber         BE    L     No    NaN       NaN   \n",
       "25530      Quercus rubra         BD    L     No    NaN       NaN   \n",
       "\n",
       "                                                  Origin  \\\n",
       "fid                                                        \n",
       "4      North America - eastern Canada and eastern USA...   \n",
       "12     North America - eastern Canada and eastern USA...   \n",
       "55     North America - central USA from eastern Kansa...   \n",
       "87     Europe - the Balkans, including Serbia, Romani...   \n",
       "97     North America - central USA from eastern Kansa...   \n",
       "...                                                  ...   \n",
       "25461  North America - central USA from eastern Kansa...   \n",
       "25462  North America - eastern Canada and eastern USA...   \n",
       "25463  North America - eastern Canada and eastern USA...   \n",
       "25488  Europe and North Africa – Spain, Portugal, Mor...   \n",
       "25530  North America - eastern Canada and eastern USA...   \n",
       "\n",
       "                                              Species_fa  \n",
       "fid                                                       \n",
       "4      Acorns take two years to mature and are an imp...  \n",
       "12     Acorns take two years to mature and are an imp...  \n",
       "55     Pin oak gets its name from the sharp pointy sh...  \n",
       "87     Glossy, dark green, lobed leaves. Golden yello...  \n",
       "97     Pin oak gets its name from the sharp pointy sh...  \n",
       "...                                                  ...  \n",
       "25461  Pin oak gets its name from the sharp pointy sh...  \n",
       "25462  Acorns take two years to mature and are an imp...  \n",
       "25463  Acorns take two years to mature and are an imp...  \n",
       "25488  Bark is corky, porous and fissured. Gray-green...  \n",
       "25530  Acorns take two years to mature and are an imp...  \n",
       "\n",
       "[2089 rows x 39 columns]"
      ]
     },
     "execution_count": 212,
     "metadata": {},
     "output_type": "execute_result"
    }
   ],
   "source": [
    "Quercus = (trees['Genus'] == 'Quercus')\n",
    "trees.loc[Quercus]"
   ]
  },
  {
   "cell_type": "code",
   "execution_count": 226,
   "id": "54063f96-b4ab-4583-8e23-c29de43237ac",
   "metadata": {},
   "outputs": [
    {
     "data": {
      "text/plain": [
       "2089"
      ]
     },
     "execution_count": 226,
     "metadata": {},
     "output_type": "execute_result"
    }
   ],
   "source": [
    "Quercus.sum()"
   ]
  },
  {
   "cell_type": "code",
   "execution_count": null,
   "id": "c6cc3386-484a-4128-9c3f-ec7ade9cbe16",
   "metadata": {},
   "outputs": [],
   "source": [
    "# There are 2089 trees in the Quercus genus."
   ]
  },
  {
   "cell_type": "code",
   "execution_count": 213,
   "id": "a1e2125d-f0ce-46de-b17c-f3d72d1af469",
   "metadata": {},
   "outputs": [
    {
     "data": {
      "text/html": [
       "<div>\n",
       "<style scoped>\n",
       "    .dataframe tbody tr th:only-of-type {\n",
       "        vertical-align: middle;\n",
       "    }\n",
       "\n",
       "    .dataframe tbody tr th {\n",
       "        vertical-align: top;\n",
       "    }\n",
       "\n",
       "    .dataframe thead th {\n",
       "        text-align: right;\n",
       "    }\n",
       "</style>\n",
       "<table border=\"1\" class=\"dataframe\">\n",
       "  <thead>\n",
       "    <tr style=\"text-align: right;\">\n",
       "      <th></th>\n",
       "      <th>OBJECTID</th>\n",
       "      <th>Inventory_</th>\n",
       "      <th>Species</th>\n",
       "      <th>DBH</th>\n",
       "      <th>Condition</th>\n",
       "      <th>TreeHeight</th>\n",
       "      <th>CrownWidth</th>\n",
       "      <th>CrownWid_1</th>\n",
       "      <th>CollectedB</th>\n",
       "      <th>Notes</th>\n",
       "      <th>...</th>\n",
       "      <th>Genus</th>\n",
       "      <th>Common_nam</th>\n",
       "      <th>Genus_spec</th>\n",
       "      <th>Functional</th>\n",
       "      <th>Size</th>\n",
       "      <th>Native</th>\n",
       "      <th>Edible</th>\n",
       "      <th>Nuisance</th>\n",
       "      <th>Origin</th>\n",
       "      <th>Species_fa</th>\n",
       "    </tr>\n",
       "    <tr>\n",
       "      <th>fid</th>\n",
       "      <th></th>\n",
       "      <th></th>\n",
       "      <th></th>\n",
       "      <th></th>\n",
       "      <th></th>\n",
       "      <th></th>\n",
       "      <th></th>\n",
       "      <th></th>\n",
       "      <th></th>\n",
       "      <th></th>\n",
       "      <th></th>\n",
       "      <th></th>\n",
       "      <th></th>\n",
       "      <th></th>\n",
       "      <th></th>\n",
       "      <th></th>\n",
       "      <th></th>\n",
       "      <th></th>\n",
       "      <th></th>\n",
       "      <th></th>\n",
       "      <th></th>\n",
       "    </tr>\n",
       "  </thead>\n",
       "  <tbody>\n",
       "    <tr>\n",
       "      <th>25</th>\n",
       "      <td>450</td>\n",
       "      <td>2017/05/15</td>\n",
       "      <td>ACGR</td>\n",
       "      <td>6.6</td>\n",
       "      <td>Fair</td>\n",
       "      <td>19.0</td>\n",
       "      <td>17.0</td>\n",
       "      <td>13.0</td>\n",
       "      <td>staff</td>\n",
       "      <td>NaN</td>\n",
       "      <td>...</td>\n",
       "      <td>Acer</td>\n",
       "      <td>paperbark maple</td>\n",
       "      <td>Acer griseum</td>\n",
       "      <td>BD</td>\n",
       "      <td>S</td>\n",
       "      <td>No</td>\n",
       "      <td>NaN</td>\n",
       "      <td>NaN</td>\n",
       "      <td>Asia - central China</td>\n",
       "      <td>Easily identified by its red-brown bark that p...</td>\n",
       "    </tr>\n",
       "    <tr>\n",
       "      <th>26</th>\n",
       "      <td>451</td>\n",
       "      <td>2017/05/15</td>\n",
       "      <td>ACGR</td>\n",
       "      <td>6.2</td>\n",
       "      <td>Fair</td>\n",
       "      <td>27.0</td>\n",
       "      <td>14.0</td>\n",
       "      <td>14.0</td>\n",
       "      <td>staff</td>\n",
       "      <td>NaN</td>\n",
       "      <td>...</td>\n",
       "      <td>Acer</td>\n",
       "      <td>paperbark maple</td>\n",
       "      <td>Acer griseum</td>\n",
       "      <td>BD</td>\n",
       "      <td>S</td>\n",
       "      <td>No</td>\n",
       "      <td>NaN</td>\n",
       "      <td>NaN</td>\n",
       "      <td>Asia - central China</td>\n",
       "      <td>Easily identified by its red-brown bark that p...</td>\n",
       "    </tr>\n",
       "    <tr>\n",
       "      <th>31</th>\n",
       "      <td>456</td>\n",
       "      <td>2017/05/15</td>\n",
       "      <td>ACPL</td>\n",
       "      <td>17.3</td>\n",
       "      <td>Fair</td>\n",
       "      <td>44.0</td>\n",
       "      <td>50.0</td>\n",
       "      <td>40.0</td>\n",
       "      <td>staff</td>\n",
       "      <td>NaN</td>\n",
       "      <td>...</td>\n",
       "      <td>Acer</td>\n",
       "      <td>Norway maple</td>\n",
       "      <td>Acer platanoides</td>\n",
       "      <td>BD</td>\n",
       "      <td>M</td>\n",
       "      <td>No</td>\n",
       "      <td>NaN</td>\n",
       "      <td>Yes</td>\n",
       "      <td>Europe - from Scandinavia and western Europe (...</td>\n",
       "      <td>Most common street tree in Portland. Pull a le...</td>\n",
       "    </tr>\n",
       "    <tr>\n",
       "      <th>32</th>\n",
       "      <td>457</td>\n",
       "      <td>2017/05/17</td>\n",
       "      <td>ACDA</td>\n",
       "      <td>6.8</td>\n",
       "      <td>Fair</td>\n",
       "      <td>20.0</td>\n",
       "      <td>23.0</td>\n",
       "      <td>13.0</td>\n",
       "      <td>staff</td>\n",
       "      <td>NaN</td>\n",
       "      <td>...</td>\n",
       "      <td>Acer</td>\n",
       "      <td>snakebark maple</td>\n",
       "      <td>Acer davidii</td>\n",
       "      <td>BD</td>\n",
       "      <td>S</td>\n",
       "      <td>No</td>\n",
       "      <td>NaN</td>\n",
       "      <td>NaN</td>\n",
       "      <td>Asia</td>\n",
       "      <td>Leaves unlobed, but can have small basal lobes...</td>\n",
       "    </tr>\n",
       "    <tr>\n",
       "      <th>42</th>\n",
       "      <td>467</td>\n",
       "      <td>2017/05/17</td>\n",
       "      <td>ACSA</td>\n",
       "      <td>33.5</td>\n",
       "      <td>Poor</td>\n",
       "      <td>100.0</td>\n",
       "      <td>73.0</td>\n",
       "      <td>77.0</td>\n",
       "      <td>staff</td>\n",
       "      <td>NaN</td>\n",
       "      <td>...</td>\n",
       "      <td>Acer</td>\n",
       "      <td>silver maple</td>\n",
       "      <td>Acer saccharinum</td>\n",
       "      <td>BD</td>\n",
       "      <td>L</td>\n",
       "      <td>No</td>\n",
       "      <td>NaN</td>\n",
       "      <td>NaN</td>\n",
       "      <td>North America - eastern Canada, eastern USA fr...</td>\n",
       "      <td>The back side of the leaves is a silver gray.</td>\n",
       "    </tr>\n",
       "    <tr>\n",
       "      <th>...</th>\n",
       "      <td>...</td>\n",
       "      <td>...</td>\n",
       "      <td>...</td>\n",
       "      <td>...</td>\n",
       "      <td>...</td>\n",
       "      <td>...</td>\n",
       "      <td>...</td>\n",
       "      <td>...</td>\n",
       "      <td>...</td>\n",
       "      <td>...</td>\n",
       "      <td>...</td>\n",
       "      <td>...</td>\n",
       "      <td>...</td>\n",
       "      <td>...</td>\n",
       "      <td>...</td>\n",
       "      <td>...</td>\n",
       "      <td>...</td>\n",
       "      <td>...</td>\n",
       "      <td>...</td>\n",
       "      <td>...</td>\n",
       "      <td>...</td>\n",
       "    </tr>\n",
       "    <tr>\n",
       "      <th>25500</th>\n",
       "      <td>723643</td>\n",
       "      <td>2019/10/11</td>\n",
       "      <td>ACMA</td>\n",
       "      <td>84.5</td>\n",
       "      <td>Fair</td>\n",
       "      <td>69.0</td>\n",
       "      <td>62.0</td>\n",
       "      <td>67.0</td>\n",
       "      <td>staff</td>\n",
       "      <td>NaN</td>\n",
       "      <td>...</td>\n",
       "      <td>Acer</td>\n",
       "      <td>bigleaf maple</td>\n",
       "      <td>Acer macrophyllum</td>\n",
       "      <td>BD</td>\n",
       "      <td>L</td>\n",
       "      <td>Yes</td>\n",
       "      <td>NaN</td>\n",
       "      <td>NaN</td>\n",
       "      <td>North America - Oregon and Washington west of ...</td>\n",
       "      <td>Name comes from the large five-lobed leaves, m...</td>\n",
       "    </tr>\n",
       "    <tr>\n",
       "      <th>25507</th>\n",
       "      <td>724045</td>\n",
       "      <td>2019/10/11</td>\n",
       "      <td>ACMA</td>\n",
       "      <td>63.0</td>\n",
       "      <td>Poor</td>\n",
       "      <td>46.0</td>\n",
       "      <td>56.0</td>\n",
       "      <td>55.0</td>\n",
       "      <td>staff</td>\n",
       "      <td>NaN</td>\n",
       "      <td>...</td>\n",
       "      <td>Acer</td>\n",
       "      <td>bigleaf maple</td>\n",
       "      <td>Acer macrophyllum</td>\n",
       "      <td>BD</td>\n",
       "      <td>L</td>\n",
       "      <td>Yes</td>\n",
       "      <td>NaN</td>\n",
       "      <td>NaN</td>\n",
       "      <td>North America - Oregon and Washington west of ...</td>\n",
       "      <td>Name comes from the large five-lobed leaves, m...</td>\n",
       "    </tr>\n",
       "    <tr>\n",
       "      <th>25509</th>\n",
       "      <td>724047</td>\n",
       "      <td>2019/10/11</td>\n",
       "      <td>ACMA</td>\n",
       "      <td>35.0</td>\n",
       "      <td>Fair</td>\n",
       "      <td>57.0</td>\n",
       "      <td>52.0</td>\n",
       "      <td>42.0</td>\n",
       "      <td>staff</td>\n",
       "      <td>NaN</td>\n",
       "      <td>...</td>\n",
       "      <td>Acer</td>\n",
       "      <td>bigleaf maple</td>\n",
       "      <td>Acer macrophyllum</td>\n",
       "      <td>BD</td>\n",
       "      <td>L</td>\n",
       "      <td>Yes</td>\n",
       "      <td>NaN</td>\n",
       "      <td>NaN</td>\n",
       "      <td>North America - Oregon and Washington west of ...</td>\n",
       "      <td>Name comes from the large five-lobed leaves, m...</td>\n",
       "    </tr>\n",
       "    <tr>\n",
       "      <th>25512</th>\n",
       "      <td>724444</td>\n",
       "      <td>2019/10/11</td>\n",
       "      <td>ACMA</td>\n",
       "      <td>38.4</td>\n",
       "      <td>Fair</td>\n",
       "      <td>102.0</td>\n",
       "      <td>42.0</td>\n",
       "      <td>41.0</td>\n",
       "      <td>staff</td>\n",
       "      <td>NaN</td>\n",
       "      <td>...</td>\n",
       "      <td>Acer</td>\n",
       "      <td>bigleaf maple</td>\n",
       "      <td>Acer macrophyllum</td>\n",
       "      <td>BD</td>\n",
       "      <td>L</td>\n",
       "      <td>Yes</td>\n",
       "      <td>NaN</td>\n",
       "      <td>NaN</td>\n",
       "      <td>North America - Oregon and Washington west of ...</td>\n",
       "      <td>Name comes from the large five-lobed leaves, m...</td>\n",
       "    </tr>\n",
       "    <tr>\n",
       "      <th>25517</th>\n",
       "      <td>724843</td>\n",
       "      <td>2019/10/11</td>\n",
       "      <td>ACMA</td>\n",
       "      <td>19.0</td>\n",
       "      <td>Fair</td>\n",
       "      <td>64.0</td>\n",
       "      <td>45.0</td>\n",
       "      <td>41.0</td>\n",
       "      <td>staff</td>\n",
       "      <td>NaN</td>\n",
       "      <td>...</td>\n",
       "      <td>Acer</td>\n",
       "      <td>bigleaf maple</td>\n",
       "      <td>Acer macrophyllum</td>\n",
       "      <td>BD</td>\n",
       "      <td>L</td>\n",
       "      <td>Yes</td>\n",
       "      <td>NaN</td>\n",
       "      <td>NaN</td>\n",
       "      <td>North America - Oregon and Washington west of ...</td>\n",
       "      <td>Name comes from the large five-lobed leaves, m...</td>\n",
       "    </tr>\n",
       "  </tbody>\n",
       "</table>\n",
       "<p>3586 rows × 39 columns</p>\n",
       "</div>"
      ],
      "text/plain": [
       "       OBJECTID  Inventory_ Species   DBH Condition  TreeHeight  CrownWidth  \\\n",
       "fid                                                                           \n",
       "25          450  2017/05/15    ACGR   6.6      Fair        19.0        17.0   \n",
       "26          451  2017/05/15    ACGR   6.2      Fair        27.0        14.0   \n",
       "31          456  2017/05/15    ACPL  17.3      Fair        44.0        50.0   \n",
       "32          457  2017/05/17    ACDA   6.8      Fair        20.0        23.0   \n",
       "42          467  2017/05/17    ACSA  33.5      Poor       100.0        73.0   \n",
       "...         ...         ...     ...   ...       ...         ...         ...   \n",
       "25500    723643  2019/10/11    ACMA  84.5      Fair        69.0        62.0   \n",
       "25507    724045  2019/10/11    ACMA  63.0      Poor        46.0        56.0   \n",
       "25509    724047  2019/10/11    ACMA  35.0      Fair        57.0        52.0   \n",
       "25512    724444  2019/10/11    ACMA  38.4      Fair       102.0        42.0   \n",
       "25517    724843  2019/10/11    ACMA  19.0      Fair        64.0        45.0   \n",
       "\n",
       "       CrownWid_1 CollectedB Notes  ...  Genus       Common_nam  \\\n",
       "fid                                 ...                           \n",
       "25           13.0      staff   NaN  ...   Acer  paperbark maple   \n",
       "26           14.0      staff   NaN  ...   Acer  paperbark maple   \n",
       "31           40.0      staff   NaN  ...   Acer     Norway maple   \n",
       "32           13.0      staff   NaN  ...   Acer  snakebark maple   \n",
       "42           77.0      staff   NaN  ...   Acer     silver maple   \n",
       "...           ...        ...   ...  ...    ...              ...   \n",
       "25500        67.0      staff   NaN  ...   Acer    bigleaf maple   \n",
       "25507        55.0      staff   NaN  ...   Acer    bigleaf maple   \n",
       "25509        42.0      staff   NaN  ...   Acer    bigleaf maple   \n",
       "25512        41.0      staff   NaN  ...   Acer    bigleaf maple   \n",
       "25517        41.0      staff   NaN  ...   Acer    bigleaf maple   \n",
       "\n",
       "              Genus_spec Functional Size Native Edible  Nuisance  \\\n",
       "fid                                                                \n",
       "25          Acer griseum         BD    S     No    NaN       NaN   \n",
       "26          Acer griseum         BD    S     No    NaN       NaN   \n",
       "31      Acer platanoides         BD    M     No    NaN       Yes   \n",
       "32          Acer davidii         BD    S     No    NaN       NaN   \n",
       "42      Acer saccharinum         BD    L     No    NaN       NaN   \n",
       "...                  ...        ...  ...    ...    ...       ...   \n",
       "25500  Acer macrophyllum         BD    L    Yes    NaN       NaN   \n",
       "25507  Acer macrophyllum         BD    L    Yes    NaN       NaN   \n",
       "25509  Acer macrophyllum         BD    L    Yes    NaN       NaN   \n",
       "25512  Acer macrophyllum         BD    L    Yes    NaN       NaN   \n",
       "25517  Acer macrophyllum         BD    L    Yes    NaN       NaN   \n",
       "\n",
       "                                                  Origin  \\\n",
       "fid                                                        \n",
       "25                                  Asia - central China   \n",
       "26                                  Asia - central China   \n",
       "31     Europe - from Scandinavia and western Europe (...   \n",
       "32                                                  Asia   \n",
       "42     North America - eastern Canada, eastern USA fr...   \n",
       "...                                                  ...   \n",
       "25500  North America - Oregon and Washington west of ...   \n",
       "25507  North America - Oregon and Washington west of ...   \n",
       "25509  North America - Oregon and Washington west of ...   \n",
       "25512  North America - Oregon and Washington west of ...   \n",
       "25517  North America - Oregon and Washington west of ...   \n",
       "\n",
       "                                              Species_fa  \n",
       "fid                                                       \n",
       "25     Easily identified by its red-brown bark that p...  \n",
       "26     Easily identified by its red-brown bark that p...  \n",
       "31     Most common street tree in Portland. Pull a le...  \n",
       "32     Leaves unlobed, but can have small basal lobes...  \n",
       "42         The back side of the leaves is a silver gray.  \n",
       "...                                                  ...  \n",
       "25500  Name comes from the large five-lobed leaves, m...  \n",
       "25507  Name comes from the large five-lobed leaves, m...  \n",
       "25509  Name comes from the large five-lobed leaves, m...  \n",
       "25512  Name comes from the large five-lobed leaves, m...  \n",
       "25517  Name comes from the large five-lobed leaves, m...  \n",
       "\n",
       "[3586 rows x 39 columns]"
      ]
     },
     "execution_count": 213,
     "metadata": {},
     "output_type": "execute_result"
    }
   ],
   "source": [
    "Acer = (trees['Genus'] == 'Acer')\n",
    "trees.loc[Acer]"
   ]
  },
  {
   "cell_type": "code",
   "execution_count": 275,
   "id": "fe869a56-17cf-4725-80dd-16cd4bf736ff",
   "metadata": {},
   "outputs": [
    {
     "data": {
      "text/plain": [
       "3586"
      ]
     },
     "execution_count": 275,
     "metadata": {},
     "output_type": "execute_result"
    }
   ],
   "source": [
    "Acer.sum()"
   ]
  },
  {
   "cell_type": "code",
   "execution_count": null,
   "id": "c8e753fe-a040-4058-b0cb-90276a5658c5",
   "metadata": {},
   "outputs": [],
   "source": [
    "# There are 3586 trees in the Acer genus."
   ]
  },
  {
   "cell_type": "markdown",
   "id": "a5b20670-dd60-4fb3-9a23-620617c1c454",
   "metadata": {},
   "source": [
    "### **Question 2** - How many trees are of the Quercus or Acer genus and have a DBH larger than 50 inches?"
   ]
  },
  {
   "cell_type": "code",
   "execution_count": 273,
   "id": "a7e7b3d1-6d8a-4eee-97d4-1a662b2ebaf1",
   "metadata": {},
   "outputs": [
    {
     "name": "stdout",
     "output_type": "stream",
     "text": [
      "         Genus   DBH\n",
      "fid                 \n",
      "1702   Quercus  51.5\n",
      "2020   Quercus  58.5\n",
      "2023   Quercus  54.1\n",
      "2035   Quercus  68.3\n",
      "2047   Quercus  57.9\n",
      "...        ...   ...\n",
      "19516  Quercus  53.5\n",
      "19524  Quercus  59.4\n",
      "21834  Quercus  56.4\n",
      "24272  Quercus  69.9\n",
      "24462  Quercus  59.0\n",
      "\n",
      "[80 rows x 2 columns]\n"
     ]
    },
    {
     "data": {
      "text/plain": [
       "Genus    80\n",
       "DBH      80\n",
       "dtype: int64"
      ]
     },
     "execution_count": 273,
     "metadata": {},
     "output_type": "execute_result"
    }
   ],
   "source": [
    "quercusDBH = trees [(trees[\"Genus\"]==\"Quercus\") & (trees[\"DBH\"]>50)][[\"Genus\", \"DBH\"]]\n",
    "print(quercusDBH)\n",
    "quercusDBH.count()"
   ]
  },
  {
   "cell_type": "code",
   "execution_count": null,
   "id": "40c7e23c-ff84-4089-a440-c3e8fd9f5843",
   "metadata": {},
   "outputs": [],
   "source": [
    "# There are 80 trees of the Quercus genus that are recorded having a DBH larger than 50 inches."
   ]
  },
  {
   "cell_type": "code",
   "execution_count": 272,
   "id": "36f1ffed-44b2-470b-b42a-b94b52b1759e",
   "metadata": {},
   "outputs": [
    {
     "name": "stdout",
     "output_type": "stream",
     "text": [
      "      Genus   DBH\n",
      "fid              \n",
      "128    Acer  50.5\n",
      "153    Acer  50.5\n",
      "155    Acer  52.7\n",
      "163    Acer  56.3\n",
      "594    Acer  50.9\n",
      "596    Acer  53.0\n",
      "681    Acer  52.7\n",
      "815    Acer  53.5\n",
      "840    Acer  53.5\n",
      "1937   Acer  51.6\n",
      "3078   Acer  52.7\n",
      "3117   Acer  59.2\n",
      "3128   Acer  52.6\n",
      "3130   Acer  50.3\n",
      "3218   Acer  58.0\n",
      "3233   Acer  53.3\n",
      "3248   Acer  55.0\n",
      "3252   Acer  58.0\n",
      "3254   Acer  65.0\n",
      "5424   Acer  65.9\n",
      "6160   Acer  50.1\n",
      "6410   Acer  73.0\n",
      "8917   Acer  54.0\n",
      "12330  Acer  60.0\n",
      "12337  Acer  58.4\n",
      "12339  Acer  61.1\n",
      "12397  Acer  62.8\n",
      "15848  Acer  55.1\n",
      "17244  Acer  54.8\n",
      "18123  Acer  54.3\n",
      "19710  Acer  56.5\n",
      "19895  Acer  54.0\n",
      "20168  Acer  52.4\n",
      "20225  Acer  56.3\n",
      "20236  Acer  66.7\n",
      "20656  Acer  53.7\n",
      "23319  Acer  51.0\n",
      "23482  Acer  59.4\n",
      "23870  Acer  59.3\n",
      "23893  Acer  63.7\n",
      "23933  Acer  55.8\n",
      "23958  Acer  59.5\n",
      "25500  Acer  84.5\n",
      "25507  Acer  63.0\n"
     ]
    },
    {
     "data": {
      "text/plain": [
       "Genus    44\n",
       "DBH      44\n",
       "dtype: int64"
      ]
     },
     "execution_count": 272,
     "metadata": {},
     "output_type": "execute_result"
    }
   ],
   "source": [
    "acerDBH = trees [(trees[\"Genus\"]==\"Acer\") & (trees[\"DBH\"]>50)][[\"Genus\", \"DBH\"]]\n",
    "print(acerDBH)\n",
    "acerDBH.count()"
   ]
  },
  {
   "cell_type": "code",
   "execution_count": null,
   "id": "a0d5c06e-810b-45e8-89d2-18a62f921a6f",
   "metadata": {},
   "outputs": [],
   "source": [
    "# There are 44 trees of the Acer genus that are recorded having a DBH larger than 50 inches."
   ]
  },
  {
   "cell_type": "markdown",
   "id": "67a1b902-67bb-4e33-b7be-527926ab50be",
   "metadata": {},
   "source": [
    "### **Question 3** - Which genus has the highest mean DBH of the following genera: Quercus, Acer, or Fraxinus?"
   ]
  },
  {
   "cell_type": "code",
   "execution_count": 290,
   "id": "6465d57d-1a0b-4301-81b6-8f1d18ac0ba7",
   "metadata": {},
   "outputs": [
    {
     "data": {
      "text/plain": [
       "23.56823839157492"
      ]
     },
     "execution_count": 290,
     "metadata": {},
     "output_type": "execute_result"
    }
   ],
   "source": [
    "quercusDBHmean = ['Quercus']\n",
    "trees[\"DBH\"][trees['Genus'].isin(quercusDBHmean)].mean()"
   ]
  },
  {
   "cell_type": "code",
   "execution_count": null,
   "id": "ef885f6b-8d4b-42d1-a5e6-dd78b0bfc359",
   "metadata": {},
   "outputs": [],
   "source": [
    "# The mean DBH of Quercus is 23.568 inches."
   ]
  },
  {
   "cell_type": "code",
   "execution_count": 291,
   "id": "f68b354b-86fa-4e1d-bf43-1301ba1dd359",
   "metadata": {},
   "outputs": [
    {
     "data": {
      "text/plain": [
       "18.419085331846066"
      ]
     },
     "execution_count": 291,
     "metadata": {},
     "output_type": "execute_result"
    }
   ],
   "source": [
    "acerDBHmean = ['Acer']\n",
    "trees[\"DBH\"][trees['Genus'].isin(acerDBHmean)].mean()"
   ]
  },
  {
   "cell_type": "code",
   "execution_count": null,
   "id": "76d627fe-60a6-47d4-854f-708fbeb86a9b",
   "metadata": {},
   "outputs": [],
   "source": [
    "# The mean DBH of Acer is 18.419 inches."
   ]
  },
  {
   "cell_type": "code",
   "execution_count": 292,
   "id": "293be692-e7d8-4bb2-b7cc-5e9dff3c9b7a",
   "metadata": {},
   "outputs": [
    {
     "data": {
      "text/plain": [
       "11.033609693877551"
      ]
     },
     "execution_count": 292,
     "metadata": {},
     "output_type": "execute_result"
    }
   ],
   "source": [
    "fraxinusDBHmean = ['Fraxinus']\n",
    "trees[\"DBH\"][trees['Genus'].isin(fraxinusDBHmean)].mean()"
   ]
  },
  {
   "cell_type": "code",
   "execution_count": null,
   "id": "1a4d158b-e11d-485d-b5c6-3196fd4b4b53",
   "metadata": {},
   "outputs": [],
   "source": [
    "# The mean DBH of Fraxinus is 11.034 inches."
   ]
  },
  {
   "cell_type": "code",
   "execution_count": null,
   "id": "ab1709b3-5977-4d8e-a5a7-aee9100a840c",
   "metadata": {},
   "outputs": [],
   "source": [
    "# The genus with the highest mean DBH is Quercus."
   ]
  },
  {
   "cell_type": "markdown",
   "id": "ecd4de69-610f-4d49-be88-eddde246f8c9",
   "metadata": {},
   "source": [
    "### **Question 4** - How many different species of trees are recorded in the Acer genus?"
   ]
  },
  {
   "cell_type": "code",
   "execution_count": 304,
   "id": "8d0653d3-aede-4564-bda9-4dd5e84b6dfb",
   "metadata": {},
   "outputs": [
    {
     "name": "stdout",
     "output_type": "stream",
     "text": [
      "fid\n",
      "1     False\n",
      "25     True\n",
      "Name: Genus_spec, dtype: bool\n"
     ]
    }
   ],
   "source": [
    "acerspp = trees['Genus_spec'].str.contains('Acer')\n",
    "acerspp.value_counts() \n",
    "acerspp.duplicated()\n",
    "acersppdiff = acerspp.drop_duplicates(keep='first')\n",
    "print(acersppdiff)"
   ]
  },
  {
   "cell_type": "code",
   "execution_count": null,
   "id": "02c41e10-c434-46ba-8560-e60c9551fcfa",
   "metadata": {},
   "outputs": [],
   "source": [
    "# There are 25 distinct species within the Acer genus."
   ]
  },
  {
   "cell_type": "code",
   "execution_count": 315,
   "id": "00c5b4b1-ebaf-42cd-b70e-46bd57edeb63",
   "metadata": {},
   "outputs": [
    {
     "ename": "KeyError",
     "evalue": "Index(['Acer'], dtype='object')",
     "output_type": "error",
     "traceback": [
      "\u001b[0;31m---------------------------------------------------------------------------\u001b[0m",
      "\u001b[0;31mKeyError\u001b[0m                                  Traceback (most recent call last)",
      "Cell \u001b[0;32mIn[315], line 2\u001b[0m\n\u001b[1;32m      1\u001b[0m trees\u001b[38;5;241m.\u001b[39mGenus_spec\u001b[38;5;241m.\u001b[39mduplicated()\n\u001b[0;32m----> 2\u001b[0m \u001b[43mtrees\u001b[49m\u001b[38;5;241;43m.\u001b[39;49m\u001b[43mduplicated\u001b[49m\u001b[43m(\u001b[49m\u001b[43msubset\u001b[49m\u001b[38;5;241;43m=\u001b[39;49m\u001b[43m[\u001b[49m\u001b[38;5;124;43m'\u001b[39;49m\u001b[38;5;124;43mAcer\u001b[39;49m\u001b[38;5;124;43m'\u001b[39;49m\u001b[43m]\u001b[49m\u001b[43m)\u001b[49m\u001b[38;5;241m.\u001b[39msum()\n",
      "File \u001b[0;32m~/miniconda3/envs/py4sa/lib/python3.10/site-packages/pandas/core/frame.py:6806\u001b[0m, in \u001b[0;36mDataFrame.duplicated\u001b[0;34m(self, subset, keep)\u001b[0m\n\u001b[1;32m   6804\u001b[0m diff \u001b[38;5;241m=\u001b[39m \u001b[38;5;28mset\u001b[39m(subset) \u001b[38;5;241m-\u001b[39m \u001b[38;5;28mset\u001b[39m(\u001b[38;5;28mself\u001b[39m\u001b[38;5;241m.\u001b[39mcolumns)\n\u001b[1;32m   6805\u001b[0m \u001b[38;5;28;01mif\u001b[39;00m diff:\n\u001b[0;32m-> 6806\u001b[0m     \u001b[38;5;28;01mraise\u001b[39;00m \u001b[38;5;167;01mKeyError\u001b[39;00m(Index(diff))\n\u001b[1;32m   6808\u001b[0m \u001b[38;5;28;01mif\u001b[39;00m \u001b[38;5;28mlen\u001b[39m(subset) \u001b[38;5;241m==\u001b[39m \u001b[38;5;241m1\u001b[39m \u001b[38;5;129;01mand\u001b[39;00m \u001b[38;5;28mself\u001b[39m\u001b[38;5;241m.\u001b[39mcolumns\u001b[38;5;241m.\u001b[39mis_unique:\n\u001b[1;32m   6809\u001b[0m     \u001b[38;5;66;03m# GH#45236 This is faster than get_group_index below\u001b[39;00m\n\u001b[1;32m   6810\u001b[0m     result \u001b[38;5;241m=\u001b[39m \u001b[38;5;28mself\u001b[39m[subset[\u001b[38;5;241m0\u001b[39m]]\u001b[38;5;241m.\u001b[39mduplicated(keep)\n",
      "\u001b[0;31mKeyError\u001b[0m: Index(['Acer'], dtype='object')"
     ]
    }
   ],
   "source": [
    "trees.Genus_spec.duplicated()\n",
    "trees.duplicated(subset=['Acer']).sum()"
   ]
  },
  {
   "cell_type": "markdown",
   "id": "889aab30-8200-419c-bb66-c2946b8430bb",
   "metadata": {},
   "source": [
    "### **Question 5**"
   ]
  },
  {
   "cell_type": "code",
   "execution_count": 198,
   "id": "396aa4f7-13e0-4dab-b248-6ee68cfcfbeb",
   "metadata": {},
   "outputs": [
    {
     "data": {
      "text/plain": [
       "(43645, 5)"
      ]
     },
     "execution_count": 198,
     "metadata": {},
     "output_type": "execute_result"
    }
   ],
   "source": [
    "cities = pd.read_csv('world_cities.csv', index_col=0, sep=\",\", header=0) #reading in csv file\n",
    "cities.head(5) #checking it is imported correctly, getting head\n",
    "cities.shape"
   ]
  },
  {
   "cell_type": "markdown",
   "id": "13b0d014-8b29-470c-b54f-7e7609b125b5",
   "metadata": {},
   "source": [
    "## Python Data Visualization"
   ]
  },
  {
   "cell_type": "markdown",
   "id": "d702f7e8-5be7-464a-b0b2-40a518cea989",
   "metadata": {},
   "source": [
    "### Graph 1"
   ]
  }
 ],
 "metadata": {
  "kernelspec": {
   "display_name": "Python 3 (ipykernel)",
   "language": "python",
   "name": "python3"
  },
  "language_info": {
   "codemirror_mode": {
    "name": "ipython",
    "version": 3
   },
   "file_extension": ".py",
   "mimetype": "text/x-python",
   "name": "python",
   "nbconvert_exporter": "python",
   "pygments_lexer": "ipython3",
   "version": "3.10.9"
  }
 },
 "nbformat": 4,
 "nbformat_minor": 5
}
